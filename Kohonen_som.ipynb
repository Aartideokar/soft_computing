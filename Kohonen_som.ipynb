{
  "nbformat": 4,
  "nbformat_minor": 0,
  "metadata": {
    "colab": {
      "provenance": []
    },
    "kernelspec": {
      "name": "python3",
      "display_name": "Python 3"
    },
    "language_info": {
      "name": "python"
    }
  },
  "cells": [
    {
      "cell_type": "code",
      "execution_count": null,
      "metadata": {
        "id": "NvmAX17oM1xW"
      },
      "outputs": [],
      "source": [
        "import math"
      ]
    },
    {
      "cell_type": "code",
      "source": [
        "def winner(weights,sample):\n",
        "  D0 = 0\n",
        "  D1 = 0\n",
        "\n",
        "  for i in range(len(sample)):\n",
        "    D0 = D0 + math.pow((sample[i] - weights[0][i]),2)\n",
        "    D1 = D1 + math.pow((sample[i] - weights[1][i]),2)\n",
        "\n",
        "    if D0 > D1 :\n",
        "      return 1\n",
        "    else:\n",
        "      return 0"
      ],
      "metadata": {
        "id": "s_Yjnh8aNGPH"
      },
      "execution_count": null,
      "outputs": []
    },
    {
      "cell_type": "code",
      "source": [
        "def update_w(weights,sample,J,alpha):\n",
        "  for i in range(len(weights)):\n",
        "    weights[J][i] = weights[J][i] + alpha*(sample[i] - weights[J][i])\n",
        "    return weights"
      ],
      "metadata": {
        "id": "4B0H02CtN11f"
      },
      "execution_count": null,
      "outputs": []
    },
    {
      "cell_type": "code",
      "source": [
        "# Training example\n",
        "T = [[1,1,0,0],[0,0,0,1],[1,0,0,0],[0,0,1,1]]\n",
        "m,n = len(T),len(T[0])\n",
        "#Initial weights\n",
        "weights = [[0.2,0.6,0.5,0.9],[0.8,0.4,0.7,0.3]]"
      ],
      "metadata": {
        "id": "Udy6182IOjT_"
      },
      "execution_count": null,
      "outputs": []
    },
    {
      "cell_type": "code",
      "source": [
        "epochs = 3\n",
        "alpha = 0.5\n",
        "for i in range(epochs):\n",
        "  for j in range(m):\n",
        "    sample = T[j]\n",
        "    J = winner(weights,sample)\n",
        "    weights = update_w(weights,sample,J,alpha)\n",
        "s = [0,0,0,1]\n",
        "print(\"The sample s belongs to cluster\",winner(weights,s))\n",
        "print(\"Trained Weights are\",weights)"
      ],
      "metadata": {
        "colab": {
          "base_uri": "https://localhost:8080/"
        },
        "id": "eOxKN3wMPyb_",
        "outputId": "1733a7d4-fd6d-40f0-9dfc-81b39ac27150"
      },
      "execution_count": null,
      "outputs": [
        {
          "output_type": "stream",
          "name": "stdout",
          "text": [
            "The sample s belongs to cluster 0\n",
            "Trained Weights are [[0.003125, 0.6, 0.5, 0.9], [0.996875, 0.4, 0.7, 0.3]]\n"
          ]
        }
      ]
    },
    {
      "cell_type": "code",
      "source": [],
      "metadata": {
        "id": "ecdcAQ2OREqQ"
      },
      "execution_count": null,
      "outputs": []
    }
  ]
}